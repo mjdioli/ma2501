{
 "cells": [
  {
   "cell_type": "code",
   "execution_count": null,
   "metadata": {},
   "outputs": [],
   "source": [
    "def project_gd(x, eta, l, down, up, interval, function, max_iter = 50, tol = 1e-7):\n",
    "    x = x\n",
    "    l = l\n",
    "    interval = interval\n",
    "    gradient = grad(cost,0)\n",
    "    p_k = gradient(x, eta, interval, function)\n",
    "    norm_p_k = np.linalg.norm(p_k)\n",
    "    grad_norm_list = np.array([norm_p_k])\n",
    "    costs = np.array(cost(x, eta, interval, function))\n",
    "    iterations_at_minima = 0\n",
    "    \n",
    "    while max_iter>0 and norm_p_k>tol:\n",
    "        print(\"We are on iteration\", max_iter)\n",
    "        #print(\"This is p_k\", p_k)\n",
    "        print(\"This is the norm\", norm_p_k)\n",
    "        #print(\"This is x\", x)\n",
    "        new_x = x - (1/l)*p_k\n",
    "        counter = 0\n",
    "        while cost(new_x, eta, interval, function) > cost(x, eta, interval, function) + np.dot(p_k,(-(1/l)*p_k)) + (l/2)*np.linalg.norm(-(1/l)*p_k):\n",
    "            l = down*l\n",
    "            new_x = x - (1/l)*p_k\n",
    "            \n",
    "        \n",
    "        \n",
    "        \n",
    "        x = new_x\n",
    "        p_k = gradient(x, eta, interval, function)\n",
    "        norm_p_k = np.linalg.norm(p_k)\n",
    "        l = up*l\n",
    "        max_iter -= 1\n",
    "        \n",
    "        costs = np.append(costs, cost(x, eta, interval, function))\n",
    "        grad_norm_list = np.append(grad_norm_list, np.linalg.norm(p_k))\n",
    "        if (np.abs(grad_norm_list[-1]-grad_norm_list[-2])<1e-15):\n",
    "            print(\"Delta grad is\", grad_norm_list[-1]-grad_norm_list[-2])\n",
    "            print(\"Delta grad is smaller than 1e-17\")\n",
    "            if(iterations_at_minima >5):\n",
    "                return x, grad_norm_list, costs\n",
    "            else:\n",
    "                iterations_at_minima += 1\n",
    "        \n",
    "    return x, grad_norm_list, costs"
   ]
  }
 ],
 "metadata": {
  "kernelspec": {
   "display_name": "Python 3",
   "language": "python",
   "name": "python3"
  },
  "language_info": {
   "codemirror_mode": {
    "name": "ipython",
    "version": 3
   },
   "file_extension": ".py",
   "mimetype": "text/x-python",
   "name": "python",
   "nbconvert_exporter": "python",
   "pygments_lexer": "ipython3",
   "version": "3.6.9"
  }
 },
 "nbformat": 4,
 "nbformat_minor": 2
}
