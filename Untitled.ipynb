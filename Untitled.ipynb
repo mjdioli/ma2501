{
 "cells": [
  {
   "cell_type": "code",
   "execution_count": 1,
   "metadata": {},
   "outputs": [],
   "source": [
    "#Imports\n",
    "import pandas as pd\n",
    "import numpy as np\n",
    "import matplotlib.pyplot as plt"
   ]
  },
  {
   "cell_type": "code",
   "execution_count": 2,
   "metadata": {},
   "outputs": [],
   "source": [
    "#Problem 1\n",
    "def phi(interval, nodes):\n",
    "    #Interval is an array with 2 entries, could add an error message if interval is longer than 2\n",
    "    #entries but seems unnecessary.\n",
    "    t = np.full((interval[1]+interval[0])/2, len(nodes))\n",
    "    return ((interval[1]-interval[0])/2)*nodes + t"
   ]
  },
  {
   "cell_type": "code",
   "execution_count": 3,
   "metadata": {},
   "outputs": [],
   "source": [
    "def chebyshev(nodes, n):\n",
    "    cheb = nodes\n",
    "    for i in range(n):\n",
    "        cheb[i] = np.cos(((2*i-1)/(2*n))*np.pi)\n",
    "    return cheb\n",
    "    "
   ]
  },
  {
   "cell_type": "code",
   "execution_count": 4,
   "metadata": {},
   "outputs": [],
   "source": [
    "def runge(x):\n",
    "    return (1/(x**2+1))"
   ]
  },
  {
   "cell_type": "code",
   "execution_count": 13,
   "metadata": {},
   "outputs": [],
   "source": [
    "def lagInterp(x, y, evaluate):\n",
    "    solution = []\n",
    "    #if(len(evaluate)==1):\n",
    "        \n",
    "    for point in evaluate:\n",
    "        val = 0\n",
    "        for i in range(len(x)):\n",
    "            li = 1\n",
    "            for j in range(len(x)):\n",
    "                if(j==i):\n",
    "                    continue\n",
    "                li = li*((point-x[j])/(x[i]-x[j]))\n",
    "        val += li*y[i]\n",
    "    solution += [val]\n",
    "    return np.array(val)"
   ]
  },
  {
   "cell_type": "code",
   "execution_count": 14,
   "metadata": {},
   "outputs": [],
   "source": [
    "#Testing for the runge function on equidistant nodes\n",
    "x = np.linspace(-1, 1, 100)\n",
    "y = runge(x)\n",
    "test = lagInterp(x, y, [0, 0.5])"
   ]
  },
  {
   "cell_type": "code",
   "execution_count": 15,
   "metadata": {},
   "outputs": [
    {
     "data": {
      "text/plain": [
       "array(3.27367955e-26)"
      ]
     },
     "execution_count": 15,
     "metadata": {},
     "output_type": "execute_result"
    }
   ],
   "source": [
    "test"
   ]
  },
  {
   "cell_type": "code",
   "execution_count": null,
   "metadata": {},
   "outputs": [],
   "source": []
  },
  {
   "cell_type": "code",
   "execution_count": null,
   "metadata": {},
   "outputs": [],
   "source": []
  },
  {
   "cell_type": "code",
   "execution_count": null,
   "metadata": {},
   "outputs": [],
   "source": []
  },
  {
   "cell_type": "code",
   "execution_count": null,
   "metadata": {},
   "outputs": [],
   "source": [
    "#Problem 1b\n",
    "def f_1(x):\n",
    "    return np.cos(2*np.pi*x)\n",
    "    \n",
    "def f_2(x):\n",
    "    return (np.exp(3*x))*np.sin(2*x)"
   ]
  },
  {
   "cell_type": "code",
   "execution_count": null,
   "metadata": {},
   "outputs": [],
   "source": []
  }
 ],
 "metadata": {
  "kernelspec": {
   "display_name": "Python 3",
   "language": "python",
   "name": "python3"
  },
  "language_info": {
   "codemirror_mode": {
    "name": "ipython",
    "version": 3
   },
   "file_extension": ".py",
   "mimetype": "text/x-python",
   "name": "python",
   "nbconvert_exporter": "python",
   "pygments_lexer": "ipython3",
   "version": "3.6.8"
  }
 },
 "nbformat": 4,
 "nbformat_minor": 2
}
