{
 "cells": [
  {
   "cell_type": "markdown",
   "metadata": {},
   "source": [
    "# Assignment 1 - Part 2\n",
    "\n",
    "<div class=\"alert alert-block alert-warning\">\n",
    "    Below we import <a href=\"https://github.com/HIPS/autograd\">autograd</a>. If you get an error saying you don't have it, you will need to install it with pip, using\n",
    "<pre>\n",
    "pip install autograd\n",
    "</pre>\n",
    "</div>"
   ]
  },
  {
   "cell_type": "code",
   "execution_count": 1,
   "metadata": {},
   "outputs": [],
   "source": [
    "import  autograd.numpy as np\n",
    "import matplotlib.pyplot as plt\n",
    "from autograd import jacobian"
   ]
  },
  {
   "cell_type": "markdown",
   "metadata": {},
   "source": [
    "## Newton's Method\n",
    "\n",
    "We want to approximate solutions of nonlinear equation in __two variables__ using Newton's method.\n",
    "\n",
    "Newton's method is implemented below.\n",
    "\n",
    "Implement a stopping criterion. That is, given some tolerance $TOL$, end the method when $\\mathbf{x}^k:=(x_1^k,x_2^k)$ satisfies $\\|F(\\mathbf{x}^k)\\|_2\\le TOL$ or $\\|\\mathbf{x}^{k+1}-\\mathbf{x}^k\\|_2\\le TOL$.\n",
    "\n",
    "Provide numerial evidence that your code works as it should by printing the values of $\\|F(\\mathbf{x}^k)\\|_2$ for each iteration, and by making a plot of $\\|F(\\mathbf{x}^k)\\|_2$, $\\|\\mathbf{x}^{k+1}-\\mathbf{x}^k\\|_2$, for all $k$.\n",
    "\n",
    "Now, verify numerically the convergence is quadratic. You will need a reference solution, and one can do this in two ways:\n",
    "\n",
    " - Consider a problem for which you know an exact solution, and use said solution as a reference solution,\n",
    " - or for your problem, should you not know a solution, use the method to obtain an extremely accurate result which you use as a reference solution"
   ]
  },
  {
   "cell_type": "markdown",
   "metadata": {},
   "source": [
    "First we'd like to explain why we include global variables in our code. The reason we do it, even though it goes against best practices, is that the scope of this task is narrow, and we truly know that the variables in question will never change. For convergence we will use mean absolute error in the first task and the 2 -norm of the relative residual in the second. We use mean squared"
   ]
  },
  {
   "cell_type": "code",
   "execution_count": 27,
   "metadata": {},
   "outputs": [],
   "source": [
    "def newtonsMethod(F, x0, maxIter=50, TOL=1.0e-20):\n",
    "    # Implementation of Newton's root finding method.\n",
    "    # F - the function you wish to find the root for,\n",
    "    # x0 - initial guess,\n",
    "    # maxIter - maximum number of iterations.\n",
    "    DF = jacobian(F)\n",
    "    x1 = x0\n",
    "    \n",
    "    for n in range(0, maxIter):\n",
    "        x0 = x1\n",
    "        J = DF(x0)\n",
    "        Fx = F(x0)\n",
    "        x1 = x1 - np.linalg.solve(J,Fx)\n",
    "            \n",
    "    return x1"
   ]
  },
  {
   "cell_type": "code",
   "execution_count": 28,
   "metadata": {},
   "outputs": [],
   "source": [
    "#My function (x_1)^2 +(x_2)-1, (x_1)*(x_2)+2\n",
    "\n",
    "def f1(x):\n",
    "    return np.array([x[0]**2+x[1]-1, x[0]*x[1]+2])\n",
    "\n",
    "#Solution is\n",
    "f1Solution = np.array([1.52138, -1.3146])"
   ]
  },
  {
   "cell_type": "code",
   "execution_count": 29,
   "metadata": {},
   "outputs": [],
   "source": [
    "def myNewtonsMethod(F, x0, maxIter=100, TOL=1.0e-20):\n",
    "    \"\"\"\n",
    "    Input: \n",
    "    F - the function you wish to find the root for\n",
    "    x0 - initial guess\n",
    "    maxIter - maximum number of iterations\n",
    "    \n",
    "    Output:\n",
    "    x1 - a solution\n",
    "    errorList - A list of differences between the real solution and the estimated solution at each iteration\n",
    "    \"\"\"\n",
    "    DF = jacobian(F)\n",
    "    x1 = x0\n",
    "    y=1\n",
    "    \n",
    "    normFList = [np.linalg.norm(F(x0))]\n",
    "    print(\"This is the norm of F at iteration 0:\", normFList[0])\n",
    "    normXList = [0]\n",
    "    errorList = [np.mean(np.abs(x1-f1Solution))]\n",
    "    while y<maxIter:  \n",
    "        #Finding the new point\n",
    "        x0 = x1\n",
    "        J = DF(x0)\n",
    "        Fx = F(x0)\n",
    "        x1 = x1 - np.linalg.solve(J,Fx)\n",
    "        \n",
    "        \n",
    "        #Finding the norms\n",
    "        normF = np.linalg.norm(F(x0))\n",
    "        normx = np.linalg.norm(x1-x0)\n",
    "        print(\"This is the norm of F at iteration\",y,\":\", normF)\n",
    "        \n",
    "        #Adding them to the normlists\n",
    "        normFList += [normF]\n",
    "        normXList += [normx]\n",
    "        \n",
    "        errorList += [np.mean(np.abs(x1-f1Solution))]\n",
    "        #Checking the stopping condition for the newton method\n",
    "        if(normF<=TOL or normx<=TOL):\n",
    "            break\n",
    "            \n",
    "        #Incrementing the counter\n",
    "        y += 1\n",
    "        \n",
    "    return x1, errorList, normFList, normXList"
   ]
  },
  {
   "cell_type": "code",
   "execution_count": 30,
   "metadata": {},
   "outputs": [
    {
     "name": "stdout",
     "output_type": "stream",
     "text": [
      "This is the norm of F at iteration 0: 10.0\n",
      "This is the norm of F at iteration 1 : 10.0\n",
      "This is the norm of F at iteration 2 : 2.329635164569766\n",
      "This is the norm of F at iteration 3 : 1.1170613732776393\n",
      "This is the norm of F at iteration 4 : 0.09321035996463532\n",
      "This is the norm of F at iteration 5 : 0.0009841408831169369\n",
      "This is the norm of F at iteration 6 : 1.1190489228014622e-07\n",
      "This is the norm of F at iteration 7 : 1.6011864169946884e-15\n",
      "This is the norm of F at iteration 8 : 3.1401849173675503e-16\n",
      "This is the norm of F at iteration 9 : 0.0\n"
     ]
    }
   ],
   "source": [
    "x0 = np.array([2.0,3.0])\n",
    "solution, errorList, normFList, normXList = myNewtonsMethod(f1, x0)"
   ]
  },
  {
   "cell_type": "code",
   "execution_count": 31,
   "metadata": {},
   "outputs": [
    {
     "data": {
      "text/plain": [
       "array([ 1.52137971, -1.31459621])"
      ]
     },
     "execution_count": 31,
     "metadata": {},
     "output_type": "execute_result"
    }
   ],
   "source": [
    "#Solution corresponds to the real root of the function and is exceedingly accurate.\n",
    "solution"
   ]
  },
  {
   "cell_type": "code",
   "execution_count": 32,
   "metadata": {},
   "outputs": [
    {
     "data": {
      "image/png": "[encoded data removed]",
      "text/plain": [
       "<Figure size 432x288 with 1 Axes>"
      ]
     },
     "metadata": {
      "needs_background": "light"
     },
     "output_type": "display_data"
    }
   ],
   "source": [
    "#Plotting the norms at each iteration\n",
    "normlist = [normFList, normXList]\n",
    "for i in normlist:\n",
    "    plt.plot(i)"
   ]
  },
  {
   "cell_type": "code",
   "execution_count": 33,
   "metadata": {},
   "outputs": [
    {
     "data": {
      "image/png": "[encoded data removed]",
      "text/plain": [
       "<Figure size 432x288 with 1 Axes>"
      ]
     },
     "metadata": {
      "needs_background": "light"
     },
     "output_type": "display_data"
    }
   ],
   "source": [
    "#Plotting the norms at each iteration\n",
    "normlist = [normFList, normXList]\n",
    "legendList = [\"Norm of F\", \"Norm of x_(k+1) - x_k\"]\n",
    "for i in range(2):\n",
    "    plt.semilogy(normlist[i], label=legendList[i])\n",
    "    plt.legend(bbox_to_anchor=(1.05, 1), loc='upper left', borderaxespad=0.)\n",
    "#Which looks quadratic, showing that we have achieved quadratic convergence."
   ]
  },
  {
   "cell_type": "markdown",
   "metadata": {},
   "source": [
    "## Linear systems\n",
    "\n",
    "Consider the linear system \n",
    "\t\\begin{equation*}\n",
    "\tA \\mathbf{u} = \\mathbf{f},\n",
    "\t\\end{equation*}\n",
    "where $A$ is a finite-difference discretization of the 2D Laplacian, this is a block tridiagonal matrix, implemented in the code below, and $\\mathbf{f}$ is the vector with all components equal to one."
   ]
  },
  {
   "cell_type": "code",
   "execution_count": 34,
   "metadata": {},
   "outputs": [
    {
     "name": "stdout",
     "output_type": "stream",
     "text": [
      "[[-4.  1.  0. ...  0.  0.  0.]\n",
      " [ 1. -4.  1. ...  0.  0.  0.]\n",
      " [ 0.  1. -4. ...  0.  0.  0.]\n",
      " ...\n",
      " [ 0.  0.  0. ... -4.  1.  0.]\n",
      " [ 0.  0.  0. ...  1. -4.  1.]\n",
      " [ 0.  0.  0. ...  0.  1. -4.]]\n"
     ]
    }
   ],
   "source": [
    "import numpy as np\n",
    "import matplotlib.pyplot as plt\n",
    "import random\n",
    "import time\n",
    "import sys\n",
    "from scipy import sparse\n",
    "from scipy import linalg\n",
    "\n",
    "# Creating the 2D laplacian matrix\n",
    "nx, ny = 10, 10\n",
    "N  = nx*ny\n",
    "main_diag = np.ones(N)*-4.0\n",
    "side_diag = np.ones(N-1)\n",
    "side_diag[np.arange(1,N)%4==0] = 0\n",
    "up_down_diag = np.ones(N-3)\n",
    "diagonals = [main_diag,side_diag,side_diag,up_down_diag,up_down_diag]\n",
    "laplacian = sparse.diags(diagonals, [0, -1, 1,nx,-nx])\n",
    "print(laplacian*np.eye(N))"
   ]
  },
  {
   "cell_type": "markdown",
   "metadata": {},
   "source": [
    "We will now approximate the solution of this linear system using some different iteration methods of the type \n",
    "\t\\begin{equation*}\n",
    "\t\tA_1 \\mathbf{u}^{(k+1)} = A_2 \\mathbf{u}^{(k)}+\\mathbf{f},\n",
    "\t\\end{equation*}\n",
    "\twhere $A = A_1 - A_2$ with $|A_1|\\ne0$. The way we choose the matrices $A_1$ and $A_2$ depends upon the method. We will use the following iterative methods to calculate approximate solutions to $\\mathbf{u}$:\n",
    "\n",
    "a) Jacobi ($A_1 = A_d$).\n",
    "\n",
    "b) Forward Gauss-Seidel ($A_1 = A_d-A_l$).\n",
    "\n",
    "c) Successive over relaxation ($A_1 = A_d-\\omega A_l$, where you can choose the value of $\\omega\\in (0,1)$).\n",
    "\n",
    "Here $A = A_d - A_l - A_u$, where\n",
    "\n",
    "- $A_d$ is the diagonal of $A$,\n",
    "- $A_l$ is $-$(strictly lower triangular part of $A$),\n",
    "- $A_u$ is $-$(strictly upper triangular part of $A$).\n",
    "\n",
    "Consider the residual vector $\\mathbf{r}^k:=\\mathbf{f}-A\\mathbf{u}^k$. We fix $nx=ny=10$ and $N=100$. For each of the above, you should:\n",
    "\n",
    "i) Compare the convergence of each method. Submit  a semi-log plot of the $2$-norm of the relative residual $\\frac{ \\|\\mathbf{r}^k\\|_2 }{ \\| \\mathbf{r}^0\\|_2 }$ versus the number of iterations. Plot all the methods in the same plot for comparison.\n",
    "Experiment choosing different values of $\\omega$ in the SOR method, try to find a value that gives you optimal convergence for this problem.\n"
   ]
  },
  {
   "cell_type": "markdown",
   "metadata": {},
   "source": [
    "We would like to preface this task with some information on how we interpreted the questions. External sources indicate that omega can have values between 0 and 2 rather than between 0 and 1 as indicated in the task. Based on the phrasing of the task, it seems that omega was intended to be between 0 and 2. If omega is between 0 and 1, then omega=1 gives the best convergence making the SOR and FGS methods identical. This leads to uninteresting analysis. Therefore, we have chosen to proceed with possible omega values between 0 and 2. Hopefully this explanation will suffice. Additionally, the last question was hard to interpret, so we have decided to answer it as broadly as possible to avoid misinterpreting the question. We hope our answers are satisfactory.\n",
    "\n",
    "For this task we will start with a u-vector equal to the 1 vector. All plots unless otherwise specified have iteration on the x-axis and residual value on the y-axis. Global variables are used for quantities that are known to be unchanging due to the narrow scope of this assignment."
   ]
  },
  {
   "cell_type": "markdown",
   "metadata": {},
   "source": [
    "### Creating the matrix A and the other required matrices"
   ]
  },
  {
   "cell_type": "code",
   "execution_count": 35,
   "metadata": {},
   "outputs": [],
   "source": [
    "\n",
    "A = laplacian*np.eye(N)\n",
    "\n",
    "A_d = sparse.diags(np.diag(A), 0).toarray()\n",
    "\n",
    "A_l = -sparse.diags([side_diag,up_down_diag], [-1, -nx]).toarray()\n",
    "\n",
    "A_u = -sparse.diags([side_diag,up_down_diag], [1, nx]).toarray()\n",
    "\n",
    "f = np.ones(N)"
   ]
  },
  {
   "cell_type": "markdown",
   "metadata": {},
   "source": [
    "### Defining functions to calculate A_1 and A_2"
   ]
  },
  {
   "cell_type": "code",
   "execution_count": 36,
   "metadata": {},
   "outputs": [],
   "source": [
    "def jacob(omega):\n",
    "    #Input is omega for SOR for compatibility reasons\n",
    "    #Output is the matrix A_1\n",
    "    return A_d, A_d-A"
   ]
  },
  {
   "cell_type": "code",
   "execution_count": 37,
   "metadata": {},
   "outputs": [],
   "source": [
    "def fgs(omega):\n",
    "    #Input is omega for SOR for compatibility reasons\n",
    "    #Output is the matrix A_1\n",
    "    return A_d-A_l, A_u"
   ]
  },
  {
   "cell_type": "code",
   "execution_count": 38,
   "metadata": {},
   "outputs": [],
   "source": [
    "def sor(omega):\n",
    "    return A_d-omega*A_l, (1-omega)*A_l+A_u "
   ]
  },
  {
   "cell_type": "markdown",
   "metadata": {},
   "source": [
    "### Defining functions for solving linear systems of equations"
   ]
  },
  {
   "cell_type": "code",
   "execution_count": 39,
   "metadata": {},
   "outputs": [],
   "source": [
    "#Function for solving linear systems only. \n",
    "#I have included it alongside a more complex version for easier testing and verification\n",
    "def linSysSolver(u_0, function, omega, tol, maxiter=100):\n",
    "    \"\"\"\n",
    "    Input:\n",
    "    u_0 is the initial starting point.\n",
    "    function is the function that calculates the A_1 matrix.\n",
    "    omega is the value for the SOR method\n",
    "    tol is the stopping criterion value\n",
    "    maxiter is the maximum number of iterations\n",
    "    \n",
    "    Output:\n",
    "    u_1 is the newest value of u\n",
    "    \"\"\"\n",
    "    \n",
    "    A_1,A_2 = function(omega)\n",
    "    \n",
    "    u_1 = u_0\n",
    "    r_0 = np.linalg.norm(f-A@u_1)\n",
    "    while maxiter>0:\n",
    "        u_1 = np.linalg.solve(A_1, A_2@u_1 + f)\n",
    "        r_k = np.linalg.norm(f-A@u_1)\n",
    "        if(r_k/r_0<= tol):\n",
    "            break\n",
    "        maxiter -= 1\n",
    "    return u_1"
   ]
  },
  {
   "cell_type": "code",
   "execution_count": 40,
   "metadata": {},
   "outputs": [],
   "source": [
    "#Testing the function with the jacobi"
   ]
  },
  {
   "cell_type": "code",
   "execution_count": 41,
   "metadata": {},
   "outputs": [],
   "source": [
    "solution= linSysSolver(np.ones(N), jacob, 0.5, 1e-7)"
   ]
  },
  {
   "cell_type": "code",
   "execution_count": 42,
   "metadata": {
    "scrolled": false
   },
   "outputs": [
    {
     "data": {
      "text/plain": [
       "array([0.99999979, 0.99999973, 0.99999971, 0.99999975, 0.99999975,\n",
       "       0.9999997 , 0.99999969, 0.99999974, 0.99999971, 0.99999962,\n",
       "       0.99999953, 0.99999957, 0.99999953, 0.99999943, 0.99999942,\n",
       "       0.99999951, 0.9999995 , 0.9999994 , 0.99999938, 0.99999946,\n",
       "       0.99999938, 0.99999925, 0.99999922, 0.99999933, 0.99999932,\n",
       "       0.99999919, 0.99999918, 0.99999931, 0.99999928, 0.99999913,\n",
       "       0.9999991 , 0.99999922, 0.99999919, 0.99999904, 0.99999903,\n",
       "       0.99999918, 0.99999917, 0.99999901, 0.99999901, 0.99999916,\n",
       "       0.99999913, 0.99999897, 0.99999895, 0.99999911, 0.99999911,\n",
       "       0.99999894, 0.99999894, 0.99999911, 0.99999911, 0.99999894,\n",
       "       0.99999894, 0.99999911, 0.99999911, 0.99999894, 0.99999894,\n",
       "       0.99999911, 0.99999911, 0.99999895, 0.99999897, 0.99999913,\n",
       "       0.99999916, 0.99999901, 0.99999901, 0.99999917, 0.99999918,\n",
       "       0.99999903, 0.99999904, 0.99999919, 0.99999922, 0.9999991 ,\n",
       "       0.99999913, 0.99999928, 0.99999931, 0.99999918, 0.99999919,\n",
       "       0.99999932, 0.99999933, 0.99999922, 0.99999925, 0.99999938,\n",
       "       0.99999946, 0.99999938, 0.9999994 , 0.9999995 , 0.99999951,\n",
       "       0.99999942, 0.99999943, 0.99999953, 0.99999957, 0.99999953,\n",
       "       0.99999962, 0.99999971, 0.99999974, 0.99999969, 0.9999997 ,\n",
       "       0.99999975, 0.99999975, 0.99999971, 0.99999973, 0.99999979])"
      ]
     },
     "execution_count": 42,
     "metadata": {},
     "output_type": "execute_result"
    }
   ],
   "source": [
    "A@solution\n",
    "#Gives correct solution"
   ]
  },
  {
   "cell_type": "code",
   "execution_count": 43,
   "metadata": {},
   "outputs": [],
   "source": [
    "#This function is intended to solve all the questions defined above.\n",
    "#Integrating plotting into the function itself might be a way to simplify it.\n",
    "def linSysSolver(u_0, function, omega, tol, maxiter=100):\n",
    "    \"\"\"\n",
    "    Input:\n",
    "    u_0 is the initial starting point.\n",
    "    function is the function that calculates the A_1 and A_2 matrices.\n",
    "    omega is the value for the SOR method.\n",
    "    tol is the stopping criterion value.\n",
    "    maxiter is the maximum number of iterations.\n",
    "    \n",
    "    Output:\n",
    "    u_1 is the newest value of u.\n",
    "    rho is the spectral radius.\n",
    "    residList is a list of all the residual ratios.\n",
    "    iteration is the iteration at which the stopping criterion is reached.\n",
    "    itertime is the average time an iteration takes.\n",
    "    elapsedFuncTime is the amount of time the function takes.\n",
    "    \"\"\"\n",
    "    #A timer that measures when the function starts\n",
    "    startFuncTime = time.time()\n",
    "    \n",
    "    #Calculating A_1 and A_2\n",
    "    A_1, A_2 = function(omega)\n",
    "    \n",
    "    #Calculating the spectral radius\n",
    "    rho = np.amax(np.abs(np.linalg.eigvals(np.linalg.inv(A_1)@A_2)))\n",
    "    iteration = 0\n",
    "    \n",
    "    u_1 = u_0\n",
    "    \n",
    "    #Setting r_0 for later use\n",
    "    r_0 = np.linalg.norm(f-A@u_0)\n",
    "    \n",
    "    #Initalising list of solution iterations, residuals, and iteration times\n",
    "    uList = [u_0]\n",
    "    residList = [1]\n",
    "    iterTime = []\n",
    "    \n",
    "    while len(uList)<maxiter:\n",
    "        #A timer that measures when the iteration starts\n",
    "        startIterTime = time.time()\n",
    "        \n",
    "        #Finding the next iteration of u and its residual\n",
    "        u_1 = np.linalg.solve(A_1, np.dot(A_2, u_1) + f)\n",
    "        r_k = np.linalg.norm(f-np.dot(A,u_1))\n",
    "        \n",
    "        #Adding them to the appropriate lsits\n",
    "        uList += [u_1]\n",
    "        residList +=[r_k/r_0]\n",
    "        \n",
    "        #Checking stopping criterion\n",
    "        if(r_k/r_0<= tol):\n",
    "            break\n",
    "        iteration += 1\n",
    "        \n",
    "        #Counter that measures when the iteration ends\n",
    "        endIterTime = time.time()\n",
    "        elapsedIterTime = endIterTime - startIterTime\n",
    "        \n",
    "        #Add the elapsed iteration time to the relevant list\n",
    "        iterTime += [elapsedIterTime]\n",
    "        \n",
    "    #Calculate when the function ends\n",
    "    endFuncTime = time.time()\n",
    "    elapsedFuncTime = endFuncTime - startFuncTime\n",
    "    return u_1, rho, residList, iteration, np.mean(np.array(iterTime)), elapsedFuncTime"
   ]
  },
  {
   "cell_type": "markdown",
   "metadata": {},
   "source": [
    "### Solving tasks"
   ]
  },
  {
   "cell_type": "code",
   "execution_count": 44,
   "metadata": {
    "scrolled": true
   },
   "outputs": [
    {
     "name": "stdout",
     "output_type": "stream",
     "text": [
      "Optimal omega value is 1.3768844221105527\n"
     ]
    }
   ],
   "source": [
    "#Finding optimal omega value for u vector equal to the one vector\n",
    "increments = np.linspace(0, 2, 200)\n",
    "omegaList = []\n",
    "for i in increments:\n",
    "    _, _, residList, _, _, _ = linSysSolver(np.ones(N), sor, i, 1e-14)\n",
    "    #print(\"Omega is now\", i)\n",
    "    omegaList += [len(residList)]\n",
    "\n",
    "print(\"Optimal omega value is\", increments[np.argmin(omegaList)])"
   ]
  },
  {
   "cell_type": "code",
   "execution_count": 45,
   "metadata": {},
   "outputs": [],
   "source": [
    "#We will use this value for omega going forward\n",
    "optimalOmega = increments[np.argmin(omegaList)]"
   ]
  },
  {
   "cell_type": "code",
   "execution_count": 46,
   "metadata": {},
   "outputs": [
    {
     "data": {
      "image/png": "[encoded data removed]",
      "text/plain": [
       "<Figure size 432x288 with 1 Axes>"
      ]
     },
     "metadata": {
      "needs_background": "light"
     },
     "output_type": "display_data"
    }
   ],
   "source": [
    "for func in [jacob, fgs, sor]:\n",
    "    solution, _, residList, _, _, _ = linSysSolver(np.ones(N), func, optimalOmega, 1e-14)\n",
    "    plt.semilogy(residList, label=func.__name__)\n",
    "    plt.legend(bbox_to_anchor=(1.05, 1), loc='upper left', borderaxespad=0.)\n",
    "    \n",
    "#As can be seen, all the methods converge.\n",
    "#It can be seen that the SOR method with an omega around 1.4 has the best convergence\n",
    "#We will investigate this claim more closely below."
   ]
  },
  {
   "cell_type": "code",
   "execution_count": 47,
   "metadata": {},
   "outputs": [],
   "source": [
    "import pandas as pd\n",
    "tol1 = 1e-7\n",
    "tol2 = 1e-14\n",
    "\n",
    "tableCol = [\"Number of iterations\", \"Time per iteration\", \"Time until finish\"]\n",
    "index = [\"Jacobi\", \"FGS\", \"SOR\"]\n",
    "df = pd.DataFrame(index=index, columns=tableCol)\n",
    "df = df.fillna(0)\n",
    "\n",
    "# convert just columns \"a\" and \"b\"\n",
    "df = df.astype(float)"
   ]
  },
  {
   "cell_type": "markdown",
   "metadata": {},
   "source": [
    "ii) Implement a stopping criterion for the three methods as you have done for the Newton method. Record the relative time each method takes per iteration, and the rime needed to obtain a norm of the relative residual below toleances  $TOL=1e-7$ and $TOL=1e-14$. Make a table with the results for each method."
   ]
  },
  {
   "cell_type": "code",
   "execution_count": 48,
   "metadata": {},
   "outputs": [],
   "source": [
    "#Results for a tolerance of 1e-7\n",
    "funcList = [jacob, fgs, sor]\n",
    "\n",
    "for i in range(3):\n",
    "    _, _, _, numOfIterations, timePerIter, funcTime = linSysSolver(np.ones(N), funcList[i], optimalOmega, tol1, 200)\n",
    "    df.iloc[i][0] = numOfIterations\n",
    "    df.iloc[i][1] = timePerIter\n",
    "    df.iloc[i][2] = funcTime"
   ]
  },
  {
   "cell_type": "code",
   "execution_count": 49,
   "metadata": {},
   "outputs": [
    {
     "data": {
      "text/html": [
       "<div>\n",
       "<style scoped>\n",
       "    .dataframe tbody tr th:only-of-type {\n",
       "        vertical-align: middle;\n",
       "    }\n",
       "\n",
       "    .dataframe tbody tr th {\n",
       "        vertical-align: top;\n",
       "    }\n",
       "\n",
       "    .dataframe thead th {\n",
       "        text-align: right;\n",
       "    }\n",
       "</style>\n",
       "<table border=\"1\" class=\"dataframe\">\n",
       "  <thead>\n",
       "    <tr style=\"text-align: right;\">\n",
       "      <th></th>\n",
       "      <th>Number of iterations</th>\n",
       "      <th>Time per iteration</th>\n",
       "      <th>Time until finish</th>\n",
       "    </tr>\n",
       "  </thead>\n",
       "  <tbody>\n",
       "    <tr>\n",
       "      <th>Jacobi</th>\n",
       "      <td>109.0</td>\n",
       "      <td>0.000500</td>\n",
       "      <td>0.080404</td>\n",
       "    </tr>\n",
       "    <tr>\n",
       "      <th>FGS</th>\n",
       "      <td>56.0</td>\n",
       "      <td>0.000717</td>\n",
       "      <td>0.048668</td>\n",
       "    </tr>\n",
       "    <tr>\n",
       "      <th>SOR</th>\n",
       "      <td>32.0</td>\n",
       "      <td>0.000490</td>\n",
       "      <td>0.027096</td>\n",
       "    </tr>\n",
       "  </tbody>\n",
       "</table>\n",
       "</div>"
      ],
      "text/plain": [
       "        Number of iterations  Time per iteration  Time until finish\n",
       "Jacobi                 109.0            0.000500           0.080404\n",
       "FGS                     56.0            0.000717           0.048668\n",
       "SOR                     32.0            0.000490           0.027096"
      ]
     },
     "execution_count": 49,
     "metadata": {},
     "output_type": "execute_result"
    }
   ],
   "source": [
    "df\n",
    "#We observe that the SOR method is the fastest across all measures of speed. \n",
    "#It is interesting to note that the time per iteration is similar between FGS and SOR while\n",
    "#being much larger for the Jacobi method."
   ]
  },
  {
   "cell_type": "code",
   "execution_count": 50,
   "metadata": {},
   "outputs": [],
   "source": [
    "#Results for a tolerance of 1e-14\n",
    "funcList = [jacob, fgs, sor]\n",
    "\n",
    "for i in range(3):\n",
    "    _, _, _, numOfIterations, timePerIter, funcTime = linSysSolver(np.ones(N), funcList[i], optimalOmega, tol2, 400)\n",
    "    df.iloc[i][0] = numOfIterations\n",
    "    df.iloc[i][1] = timePerIter\n",
    "    df.iloc[i][2] = funcTime"
   ]
  },
  {
   "cell_type": "code",
   "execution_count": 51,
   "metadata": {},
   "outputs": [
    {
     "data": {
      "text/html": [
       "<div>\n",
       "<style scoped>\n",
       "    .dataframe tbody tr th:only-of-type {\n",
       "        vertical-align: middle;\n",
       "    }\n",
       "\n",
       "    .dataframe tbody tr th {\n",
       "        vertical-align: top;\n",
       "    }\n",
       "\n",
       "    .dataframe thead th {\n",
       "        text-align: right;\n",
       "    }\n",
       "</style>\n",
       "<table border=\"1\" class=\"dataframe\">\n",
       "  <thead>\n",
       "    <tr style=\"text-align: right;\">\n",
       "      <th></th>\n",
       "      <th>Number of iterations</th>\n",
       "      <th>Time per iteration</th>\n",
       "      <th>Time until finish</th>\n",
       "    </tr>\n",
       "  </thead>\n",
       "  <tbody>\n",
       "    <tr>\n",
       "      <th>Jacobi</th>\n",
       "      <td>220.0</td>\n",
       "      <td>0.000674</td>\n",
       "      <td>0.186741</td>\n",
       "    </tr>\n",
       "    <tr>\n",
       "      <th>FGS</th>\n",
       "      <td>113.0</td>\n",
       "      <td>0.000308</td>\n",
       "      <td>0.042656</td>\n",
       "    </tr>\n",
       "    <tr>\n",
       "      <th>SOR</th>\n",
       "      <td>61.0</td>\n",
       "      <td>0.000309</td>\n",
       "      <td>0.028456</td>\n",
       "    </tr>\n",
       "  </tbody>\n",
       "</table>\n",
       "</div>"
      ],
      "text/plain": [
       "        Number of iterations  Time per iteration  Time until finish\n",
       "Jacobi                 220.0            0.000674           0.186741\n",
       "FGS                    113.0            0.000308           0.042656\n",
       "SOR                     61.0            0.000309           0.028456"
      ]
     },
     "execution_count": 51,
     "metadata": {},
     "output_type": "execute_result"
    }
   ],
   "source": [
    "df\n",
    "#Similar results as for a tolerance of 1e-7 except the difference between the Jacobi and other two\n",
    "#methods is more pronounced."
   ]
  },
  {
   "cell_type": "markdown",
   "metadata": {},
   "source": [
    "iii) Calculate the spectral radius of $A_1^{-1}A_2$ and see how that relates to convergence of the method. Make a semi-log plot for comparison. \n",
    "\n",
    "<div class=\"alert alert-block alert-info\">\n",
    "<b>Hint:</b> Python's \n",
    "    <pre>numpy.linalg.eigvals(A)</pre>\n",
    "function returns the eigenvalues of $A$.\n",
    "</div>"
   ]
  },
  {
   "cell_type": "markdown",
   "metadata": {},
   "source": [
    "Our chosen interpretation of the plotting part of the question is to plot the SOR method for different values of omega between 0 and 2 since 0 makes it equivalent to the Jacobi method while 1 makes it equivalent to the FGS method. "
   ]
  },
  {
   "cell_type": "markdown",
   "metadata": {},
   "source": [
    "First let us look at how the spectral radius changes as omega changes."
   ]
  },
  {
   "cell_type": "code",
   "execution_count": 52,
   "metadata": {},
   "outputs": [
    {
     "data": {
      "text/plain": [
       "[<matplotlib.lines.Line2D at 0x7fd569e5b160>]"
      ]
     },
     "execution_count": 52,
     "metadata": {},
     "output_type": "execute_result"
    },
    {
     "data": {
      "image/png": "[encoded data removed]",
      "text/plain": [
       "<Figure size 432x288 with 1 Axes>"
      ]
     },
     "metadata": {
      "needs_background": "light"
     },
     "output_type": "display_data"
    }
   ],
   "source": [
    "#We observe that the optimal omega value is close to where SOR has the smallest spectral radius\n",
    "rhoList=[]\n",
    "omegas = sorted(np.append(np.linspace(0,2, 6), np.array([1, optimalOmega])))\n",
    "for omega in omegas:\n",
    "    _, rho, _, numOfIterations, _, _ = linSysSolver(np.ones(N), sor, omega, 1e-14)\n",
    "    rhoList += [rho]\n",
    "\n",
    "#Omegas are on the x-axis while spectral radii are on the y-axis \n",
    "plt.plot(omegas, rhoList)"
   ]
  },
  {
   "cell_type": "code",
   "execution_count": 53,
   "metadata": {},
   "outputs": [
    {
     "data": {
      "image/png": "[encoded data removed]",
      "text/plain": [
       "<Figure size 432x288 with 1 Axes>"
      ]
     },
     "metadata": {
      "needs_background": "light"
     },
     "output_type": "display_data"
    }
   ],
   "source": [
    "#For each entry in the legend, the left value is the omega value, while the right is the spectral radius\n",
    "for omega in omegas:\n",
    "    _, rho, residList, _, _, _ = linSysSolver(np.ones(N), sor, omega, tol2)\n",
    "    plt.semilogy(residList, label=[omega,rho])\n",
    "    plt.legend(bbox_to_anchor=(1.05, 1), loc='upper left', borderaxespad=0.)"
   ]
  },
  {
   "cell_type": "code",
   "execution_count": 54,
   "metadata": {},
   "outputs": [],
   "source": [
    "#As can be seen, a smaller spectral radius leads to faster convergence rate in the long run. However,\n",
    "#over fewer iterations, there is a much larger fluctuation in convergence that seems to be more method specific.\n",
    "#Case in point is the SOR algorithm for omega=2 (SOR2) and the Jacobi algorithm. \n",
    "#SOR2 converges much faster than Jacobi initally before levelling off at a similar convergence speed after \n",
    "#some number of iterations.\n",
    "#We therefore conclude that a smaller spectral radius leads to faster convergence as the number of iterations\n",
    "#becomes sufficiently large."
   ]
  },
  {
   "cell_type": "code",
   "execution_count": 55,
   "metadata": {},
   "outputs": [],
   "source": [
    "#We will now compare the spectral radius to the number of iterations, time per iteration, and time until finish\n",
    "#for the different algorithms."
   ]
  },
  {
   "cell_type": "code",
   "execution_count": 56,
   "metadata": {},
   "outputs": [],
   "source": [
    "tableCol = [\"Spectral radius\", \"Number of iterations\", \"Time per iteration\", \"Time until finish\"]\n",
    "omegas = sorted(np.append(np.linspace(0,2, 6), np.array([1, optimalOmega])))\n",
    "\n",
    "#The row index of the dataframe are the omega values\n",
    "df = pd.DataFrame(index=omegas, columns=tableCol)\n",
    "df = df.fillna(0)\n",
    "\n",
    "# convert just columns \"a\" and \"b\"\n",
    "df = df.astype(float)"
   ]
  },
  {
   "cell_type": "code",
   "execution_count": 57,
   "metadata": {},
   "outputs": [],
   "source": [
    "for omega in omegas:\n",
    "    _, rho, _, numOfIterations, timePerIter, funcTime = linSysSolver(np.ones(N), sor, omega, tol2, 400)\n",
    "    df.loc[omega, \"Spectral radius\"] = rho\n",
    "    df.loc[omega, \"Number of iterations\"] = numOfIterations\n",
    "    df.loc[omega, \"Time per iteration\"] = timePerIter\n",
    "    df.loc[omega, \"Time until finish\"] = funcTime"
   ]
  },
  {
   "cell_type": "code",
   "execution_count": 58,
   "metadata": {},
   "outputs": [
    {
     "data": {
      "text/html": [
       "<div>\n",
       "<style scoped>\n",
       "    .dataframe tbody tr th:only-of-type {\n",
       "        vertical-align: middle;\n",
       "    }\n",
       "\n",
       "    .dataframe tbody tr th {\n",
       "        vertical-align: top;\n",
       "    }\n",
       "\n",
       "    .dataframe thead th {\n",
       "        text-align: right;\n",
       "    }\n",
       "</style>\n",
       "<table border=\"1\" class=\"dataframe\">\n",
       "  <thead>\n",
       "    <tr style=\"text-align: right;\">\n",
       "      <th></th>\n",
       "      <th>Spectral radius</th>\n",
       "      <th>Number of iterations</th>\n",
       "      <th>Time per iteration</th>\n",
       "      <th>Time until finish</th>\n",
       "    </tr>\n",
       "  </thead>\n",
       "  <tbody>\n",
       "    <tr>\n",
       "      <th>0.000000</th>\n",
       "      <td>0.865065</td>\n",
       "      <td>220.0</td>\n",
       "      <td>0.000623</td>\n",
       "      <td>0.201241</td>\n",
       "    </tr>\n",
       "    <tr>\n",
       "      <th>0.400000</th>\n",
       "      <td>0.836422</td>\n",
       "      <td>179.0</td>\n",
       "      <td>0.002016</td>\n",
       "      <td>0.370483</td>\n",
       "    </tr>\n",
       "    <tr>\n",
       "      <th>0.800000</th>\n",
       "      <td>0.790020</td>\n",
       "      <td>136.0</td>\n",
       "      <td>0.002468</td>\n",
       "      <td>0.361408</td>\n",
       "    </tr>\n",
       "    <tr>\n",
       "      <th>1.000000</th>\n",
       "      <td>0.752656</td>\n",
       "      <td>113.0</td>\n",
       "      <td>0.000310</td>\n",
       "      <td>0.043122</td>\n",
       "    </tr>\n",
       "    <tr>\n",
       "      <th>1.200000</th>\n",
       "      <td>0.692184</td>\n",
       "      <td>88.0</td>\n",
       "      <td>0.000319</td>\n",
       "      <td>0.037656</td>\n",
       "    </tr>\n",
       "    <tr>\n",
       "      <th>1.376884</th>\n",
       "      <td>0.603833</td>\n",
       "      <td>61.0</td>\n",
       "      <td>0.000314</td>\n",
       "      <td>0.028746</td>\n",
       "    </tr>\n",
       "    <tr>\n",
       "      <th>1.600000</th>\n",
       "      <td>0.689901</td>\n",
       "      <td>79.0</td>\n",
       "      <td>0.000458</td>\n",
       "      <td>0.046019</td>\n",
       "    </tr>\n",
       "    <tr>\n",
       "      <th>2.000000</th>\n",
       "      <td>0.861677</td>\n",
       "      <td>190.0</td>\n",
       "      <td>0.000311</td>\n",
       "      <td>0.069175</td>\n",
       "    </tr>\n",
       "  </tbody>\n",
       "</table>\n",
       "</div>"
      ],
      "text/plain": [
       "          Spectral radius  Number of iterations  Time per iteration  \\\n",
       "0.000000         0.865065                 220.0            0.000623   \n",
       "0.400000         0.836422                 179.0            0.002016   \n",
       "0.800000         0.790020                 136.0            0.002468   \n",
       "1.000000         0.752656                 113.0            0.000310   \n",
       "1.200000         0.692184                  88.0            0.000319   \n",
       "1.376884         0.603833                  61.0            0.000314   \n",
       "1.600000         0.689901                  79.0            0.000458   \n",
       "2.000000         0.861677                 190.0            0.000311   \n",
       "\n",
       "          Time until finish  \n",
       "0.000000           0.201241  \n",
       "0.400000           0.370483  \n",
       "0.800000           0.361408  \n",
       "1.000000           0.043122  \n",
       "1.200000           0.037656  \n",
       "1.376884           0.028746  \n",
       "1.600000           0.046019  \n",
       "2.000000           0.069175  "
      ]
     },
     "execution_count": 58,
     "metadata": {},
     "output_type": "execute_result"
    }
   ],
   "source": [
    "df\n",
    "#As we can see, the algorithm with the lowest spectral radius converges the fastest across all dimensions.\n",
    "#An interesting observation is that although omega=0 and omega=2 have very similar spectral radii,\n",
    "#omega = 0 is much slower. This implies that the there are some method specific differences, but that spectral\n",
    "#radius plays some role in convergence speed."
   ]
  }
 ],
 "metadata": {
  "kernelspec": {
   "display_name": "Python 3",
   "language": "python",
   "name": "python3"
  },
  "language_info": {
   "codemirror_mode": {
    "name": "ipython",
    "version": 3
   },
   "file_extension": ".py",
   "mimetype": "text/x-python",
   "name": "python",
   "nbconvert_exporter": "python",
   "pygments_lexer": "ipython3",
   "version": "3.6.9"
  }
 },
 "nbformat": 4,
 "nbformat_minor": 2
}
